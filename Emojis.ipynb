{
 "cells": [
  {
   "cell_type": "code",
   "execution_count": 2,
   "metadata": {},
   "outputs": [
    {
     "data": {
      "text/plain": [
       "-1"
      ]
     },
     "execution_count": 2,
     "metadata": {},
     "output_type": "execute_result"
    }
   ],
   "source": [
    "import cv2 as cv\n",
    "import numpy as np\n",
    "\n",
    "\n",
    "blank_image = np.zeros((600,400,3), dtype='uint8')\n",
    "blank_image[:] = (218,168,255)\n",
    "\n",
    "blank_image = cv.circle(blank_image, (200,150), 130, (0,255,255), thickness=cv.FILLED ) # 2nd emoji\n",
    "blank_image = cv.ellipse(blank_image, (200,200), (50, 33), 0, 0, 180, (0,0,0), thickness=8 ) #  mouth emoji\n",
    "blank_image = cv.ellipse(blank_image, (140,120), (15, 13), 0, 190, 350, (0,0,0), thickness=8 ) #  eye1 emoji\n",
    "blank_image = cv.ellipse(blank_image, (260,120), (15, 13), 0, 190, 350, (0,0,0), thickness=8 ) #  eye2 emoji\n",
    "blank_image = cv.ellipse(blank_image, (200,27), (110, 18), 0, 0, 360, (255,255,0), thickness=8 ) #  ring emoji\n",
    "\n",
    "\n",
    "blank_image = cv.circle(blank_image, (200,450), 130, (214, 17, 214), thickness=cv.FILLED ) # 2nd emoji\n",
    "blank_image = cv.circle(blank_image, (160,430), 15, (0,0,0), thickness=cv.FILLED ) # 1st eye emoji\n",
    "blank_image = cv.circle(blank_image, (240,430), 15, (0,0,0), thickness=cv.FILLED ) # second eye emoji\n",
    "blank_image = cv.ellipse(blank_image, (200,490), (60, 33), 0, 10, 170, (0,0,0), thickness=8 ) #  mouth emoji\n",
    "blank_image = cv.ellipse(blank_image, (135,422), (40, 20), 20, 185, 340, (0,0,0), thickness=5 ) #  eyebrow emoji\n",
    "blank_image = cv.ellipse(blank_image, (265,422), (40, 20), -20, 200, 355, (0,0,0), thickness=5 ) #  eyebrow emoji\n",
    "arr = [(70,320), (100, 370), (125, 345)]\n",
    "blank_image = cv.fillPoly(blank_image, np.array([arr]), (214, 17, 214)) #  horns emoji\n",
    "arr = [(335,320), (300, 370), (275, 345)]\n",
    "blank_image = cv.fillPoly(blank_image, np.array([arr]), (214, 17, 214)) #  horns emoji\n",
    "blank_image = cv.putText(blank_image, 'blessed', (10,40), cv.FONT_HERSHEY_SCRIPT_SIMPLEX, 1, (0,0,0), thickness=2 )\n",
    "blank_image = cv.putText(blank_image, 'Evil', (10,330), cv.FONT_HERSHEY_SCRIPT_SIMPLEX, 1, (0,0,0), thickness=2 )\n",
    "\n",
    "cv.imshow('Emojis', blank_image)\n",
    "cv.waitKey(0)\n"
   ]
  },
  {
   "cell_type": "code",
   "execution_count": null,
   "metadata": {},
   "outputs": [],
   "source": []
  }
 ],
 "metadata": {
  "interpreter": {
   "hash": "8c3d4d9970fc5c09c50d9318a9c7fbf4d0159e4b28833276f5678ee22bded273"
  },
  "kernelspec": {
   "display_name": "Python 3.10.1 64-bit",
   "language": "python",
   "name": "python3"
  },
  "language_info": {
   "codemirror_mode": {
    "name": "ipython",
    "version": 3
   },
   "file_extension": ".py",
   "mimetype": "text/x-python",
   "name": "python",
   "nbconvert_exporter": "python",
   "pygments_lexer": "ipython3",
   "version": "3.10.1"
  },
  "orig_nbformat": 4
 },
 "nbformat": 4,
 "nbformat_minor": 2
}
