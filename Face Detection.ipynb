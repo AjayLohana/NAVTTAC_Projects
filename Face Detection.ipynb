{
 "cells": [
  {
   "cell_type": "code",
   "execution_count": 1,
   "metadata": {},
   "outputs": [],
   "source": [
    "import cv2\n"
   ]
  },
  {
   "cell_type": "code",
   "execution_count": 6,
   "metadata": {},
   "outputs": [
    {
     "name": "stdout",
     "output_type": "stream",
     "text": [
      "Collecting cvlearn\n",
      "  Downloading cvlearn-0.1.2-py3-none-any.whl (6.5 kB)\n",
      "Requirement already satisfied: numpy in c:\\anaconda\\lib\\site-packages (from cvlearn) (1.19.2)\n",
      "Collecting opencv-contrib-python\n",
      "  Downloading opencv_contrib_python-4.6.0.66-cp36-abi3-win_amd64.whl (42.5 MB)\n",
      "Collecting mediapipe\n",
      "  Downloading mediapipe-0.8.10-cp38-cp38-win_amd64.whl (48.6 MB)\n",
      "Requirement already satisfied: opencv-python in c:\\anaconda\\lib\\site-packages (from cvlearn) (4.5.3.56)\n",
      "Collecting msvc-runtime\n",
      "  Downloading msvc_runtime-14.29.30133-cp38-cp38-win_amd64.whl (1.8 MB)\n",
      "Requirement already satisfied: attrs>=19.1.0 in c:\\anaconda\\lib\\site-packages (from mediapipe->cvlearn) (20.3.0)\n",
      "Requirement already satisfied: absl-py in c:\\anaconda\\lib\\site-packages (from mediapipe->cvlearn) (0.14.1)\n",
      "Requirement already satisfied: protobuf>=3.11.4 in c:\\anaconda\\lib\\site-packages (from mediapipe->cvlearn) (3.18.0)\n",
      "Requirement already satisfied: matplotlib in c:\\anaconda\\lib\\site-packages (from mediapipe->cvlearn) (3.3.2)\n",
      "Requirement already satisfied: six in c:\\anaconda\\lib\\site-packages (from absl-py->mediapipe->cvlearn) (1.15.0)\n",
      "Requirement already satisfied: pyparsing!=2.0.4,!=2.1.2,!=2.1.6,>=2.0.3 in c:\\anaconda\\lib\\site-packages (from matplotlib->mediapipe->cvlearn) (2.4.7)\n",
      "Requirement already satisfied: certifi>=2020.06.20 in c:\\anaconda\\lib\\site-packages (from matplotlib->mediapipe->cvlearn) (2020.6.20)\n",
      "Requirement already satisfied: pillow>=6.2.0 in c:\\anaconda\\lib\\site-packages (from matplotlib->mediapipe->cvlearn) (8.0.1)\n",
      "Requirement already satisfied: python-dateutil>=2.1 in c:\\anaconda\\lib\\site-packages (from matplotlib->mediapipe->cvlearn) (2.8.1)\n",
      "Requirement already satisfied: cycler>=0.10 in c:\\anaconda\\lib\\site-packages (from matplotlib->mediapipe->cvlearn) (0.10.0)\n",
      "Requirement already satisfied: kiwisolver>=1.0.1 in c:\\anaconda\\lib\\site-packages (from matplotlib->mediapipe->cvlearn) (1.3.0)\n",
      "Installing collected packages: opencv-contrib-python, mediapipe, msvc-runtime, cvlearn\n",
      "Successfully installed cvlearn-0.1.2 mediapipe-0.8.10 msvc-runtime-14.29.30133 opencv-contrib-python-4.6.0.66\n",
      "Note: you may need to restart the kernel to use updated packages.\n"
     ]
    }
   ],
   "source": [
    "pip install cvlearn"
   ]
  },
  {
   "cell_type": "code",
   "execution_count": 7,
   "metadata": {},
   "outputs": [],
   "source": [
    "from cvlearn import FaceDetection as fd"
   ]
  },
  {
   "cell_type": "code",
   "execution_count": 8,
   "metadata": {},
   "outputs": [],
   "source": [
    "cap=cv2.VideoCapture(0)\n",
    "detector=fd.FaceDetector()"
   ]
  },
  {
   "cell_type": "code",
   "execution_count": null,
   "metadata": {},
   "outputs": [],
   "source": [
    "while True:\n",
    "    ret,frame=cap.read()\n",
    "    frame=detector.findFaces(frame)\n",
    "    cv2.imshow(\"Detect\",frame)\n",
    "    cv2.waitKey(0)"
   ]
  },
  {
   "cell_type": "code",
   "execution_count": null,
   "metadata": {},
   "outputs": [],
   "source": []
  }
 ],
 "metadata": {
  "kernelspec": {
   "display_name": "Python 3",
   "language": "python",
   "name": "python3"
  },
  "language_info": {
   "codemirror_mode": {
    "name": "ipython",
    "version": 3
   },
   "file_extension": ".py",
   "mimetype": "text/x-python",
   "name": "python",
   "nbconvert_exporter": "python",
   "pygments_lexer": "ipython3",
   "version": "3.8.5"
  }
 },
 "nbformat": 4,
 "nbformat_minor": 4
}
